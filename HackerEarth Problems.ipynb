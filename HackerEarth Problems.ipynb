{
 "cells": [
  {
   "cell_type": "code",
   "execution_count": 15,
   "metadata": {},
   "outputs": [
    {
     "name": "stdout",
     "output_type": "stream",
     "text": [
      "azAZ09\n",
      "18\n",
      "srSR87\n"
     ]
    }
   ],
   "source": [
    "string=input()\n",
    "N=int(input())\n",
    "res=\"\"\n",
    "\n",
    "N1=N%26\n",
    "N2=N%10\n",
    "\n",
    "for x in string:\n",
    "    if x.islower():\n",
    "        if ord(x)+N1<=122:\n",
    "            res+=chr(ord(x)+N1)\n",
    "        elif ord(x)+N1>122:\n",
    "            z=ord(x)+N1-122\n",
    "            res+=chr(z+96)\n",
    "    elif x.isupper():\n",
    "        if ord(x)+N1<=90:\n",
    "            res+=chr(ord(x)+N1)\n",
    "        elif ord(x)+N1>90:\n",
    "            z=ord(x)+N1-90\n",
    "            res+=chr(z+64)\n",
    "    elif x.isdigit():\n",
    "        if(ord(x)>=48 and ord(x)<=57):\n",
    "            if ord(x)+N2<=57:\n",
    "                res+=chr((ord(x)+N2))\n",
    "            elif ord(x)+N2>57:\n",
    "                z=ord(x)+N2-57\n",
    "                res+=chr(z+47)\n",
    "    else:\n",
    "        res+=x\n",
    "print(res)\n",
    "            "
   ]
  },
  {
   "cell_type": "code",
   "execution_count": 2,
   "metadata": {},
   "outputs": [
    {
     "data": {
      "text/plain": [
       "(48, 57)"
      ]
     },
     "execution_count": 2,
     "metadata": {},
     "output_type": "execute_result"
    }
   ],
   "source": [
    "ord('0'),ord('9'),ord()"
   ]
  },
  {
   "cell_type": "code",
   "execution_count": 16,
   "metadata": {},
   "outputs": [
    {
     "name": "stdout",
     "output_type": "stream",
     "text": [
      "sdsadsad\n"
     ]
    }
   ],
   "source": [
    "string=input().split()"
   ]
  },
  {
   "cell_type": "code",
   "execution_count": 24,
   "metadata": {},
   "outputs": [
    {
     "name": "stdout",
     "output_type": "stream",
     "text": [
      "11B242-73\n",
      "[2, 6, 6, 10]\n",
      "valid\n"
     ]
    }
   ],
   "source": [
    "string=list(input())\n",
    "y=0\n",
    "if string[6]=='-' and string[2] not in ['A','E','I','O','U','Y']:\n",
    "    string.remove(string[6])\n",
    "    string.remove(string[2])\n",
    "    sum1=[]\n",
    "    for x in range(0,len(string)-1):\n",
    "        if x==4 or x==1:\n",
    "            continue\n",
    "        else:\n",
    "            z=int(string[x])+int(string[x+1])\n",
    "            sum1.append(z)\n",
    "    print(sum1)\n",
    "    for x in sum1:\n",
    "        if int(x)%2!=0:\n",
    "            print(\"invalid\")\n",
    "            y=0\n",
    "            break\n",
    "        else:\n",
    "            y=1\n",
    "    if y:\n",
    "        print(\"valid\")\n",
    "else:\n",
    "    print(\"invalid\")"
   ]
  },
  {
   "cell_type": "code",
   "execution_count": 95,
   "metadata": {},
   "outputs": [
    {
     "name": "stdout",
     "output_type": "stream",
     "text": [
      "2\n",
      "18\n",
      "19 WS\n",
      "40\n",
      "45 AS\n"
     ]
    }
   ],
   "source": [
    "WS1=[];WS2=[];MS1=[];MS2=[];AS1=[];AS2=[]\n",
    "for x in range(1,109):\n",
    "    if (x%6==0 and x%12!=0) or (x%6==1 and x%12!=1):\n",
    "        WS1.append(x)\n",
    "    elif (x%12==0 and x%6!=1) or (x%12==1 and x%6!=0):\n",
    "        WS2.append(x)\n",
    "    elif (x%12==2)or(x%12==11):\n",
    "        MS1.append(x)\n",
    "    elif(x%12==5)or x%12==8:\n",
    "        MS2.append(x)\n",
    "    elif x%12==3 or x%12==10:\n",
    "        AS1.append(x)\n",
    "    elif x%12==4 or x%12==9:\n",
    "        AS2.append(x)\n",
    "T=int(input())\n",
    "for x in range(0,T):\n",
    "    N=int(input())\n",
    "    if N in WS1:\n",
    "        print(WS1[WS1.index(N)+1],\"WS\")\n",
    "    elif N in WS2:\n",
    "        print(WS2[WS2.index(N)+1],\"WS\")\n",
    "    elif N in AS1:\n",
    "        print(AS1[AS1.index(N)+1],\"AS\")\n",
    "    elif N in AS2:\n",
    "        print(AS2[AS2.index(N)+1],\"AS\")\n",
    "    elif N in MS1:\n",
    "        print(MS1[MS1.index(N)+1],\"MS\")\n",
    "    elif N in MS2:\n",
    "        print(MS2[MS2.index(N)+1],\"MS\")"
   ]
  },
  {
   "cell_type": "code",
   "execution_count": 92,
   "metadata": {},
   "outputs": [
    {
     "name": "stdout",
     "output_type": "stream",
     "text": [
      "13\n"
     ]
    },
    {
     "data": {
      "text/plain": [
       "[1, 12, 13, 24, 25, 36, 37, 48, 49, 60, 61, 72, 73, 84, 85, 96, 97, 108]"
      ]
     },
     "execution_count": 92,
     "metadata": {},
     "output_type": "execute_result"
    }
   ],
   "source": [
    "WS2\n",
    "print(WS2[WS2.index(12)+1])\n",
    "WS2"
   ]
  },
  {
   "cell_type": "code",
   "execution_count": null,
   "metadata": {},
   "outputs": [],
   "source": []
  },
  {
   "cell_type": "code",
   "execution_count": 34,
   "metadata": {},
   "outputs": [
    {
     "name": "stdout",
     "output_type": "stream",
     "text": [
      "491\n",
      "Patlu\n",
      "-1 164 328 491\n"
     ]
    }
   ],
   "source": [
    "def BricksGame(x):\n",
    "    P=0;M=0;y=x\n",
    "    for val in range(1,x+1):\n",
    "        if y>0:\n",
    "            P+=1\n",
    "            M+=2\n",
    "            y=y-3\n",
    "        \n",
    "            \n",
    "            #M+=val*2\n",
    "            #4391\n",
    "            #print(val)\n",
    "    if y-x==2:\n",
    "        print(\"Motu\")\n",
    "    else:\n",
    "        print(\"Patlu\")\n",
    "    print(y,P,M,val)\n",
    "    return\n",
    "\n",
    "\n",
    "N=int(input())\n",
    "BricksGame(N)"
   ]
  },
  {
   "cell_type": "markdown",
   "metadata": {},
   "source": [
    "### 4391 "
   ]
  },
  {
   "cell_type": "markdown",
   "metadata": {},
   "source": [
    "## 3238//2"
   ]
  },
  {
   "cell_type": "code",
   "execution_count": 20,
   "metadata": {},
   "outputs": [
    {
     "data": {
      "text/plain": [
       "1"
      ]
     },
     "execution_count": 20,
     "metadata": {},
     "output_type": "execute_result"
    }
   ],
   "source": [
    "13%3\n"
   ]
  },
  {
   "cell_type": "code",
   "execution_count": 56,
   "metadata": {},
   "outputs": [
    {
     "name": "stdout",
     "output_type": "stream",
     "text": [
      "4691\n",
      "Motu\n"
     ]
    }
   ],
   "source": [
    "def BricksGame(N):\n",
    "    c=1;M=0;P=0\n",
    "    for i in range(N):\n",
    "        if(N-i<=0):\n",
    "            print(\"Patlu\")\n",
    "            break\n",
    "        else:\n",
    "            N-=i\n",
    "        if(N-(2*i)<=0):\n",
    "            print(\"Motu\")\n",
    "            break\n",
    "        else:\n",
    "            N-=2*i\n",
    "    return\n",
    "N=int(input())\n",
    "BricksGame(N)"
   ]
  },
  {
   "cell_type": "markdown",
   "metadata": {},
   "source": [
    "### n= int(input())\n",
    "for i in range(n):\n",
    "if(n-i<=0):\n",
    "print(\"Patlu\")\n",
    "break\n",
    "else:\n",
    "n-=i\n",
    "if(n-(2*i)<=0):\n",
    "print(\"Motu\")\n",
    "break\n",
    "else:\n",
    "n-=2*i"
   ]
  },
  {
   "cell_type": "code",
   "execution_count": null,
   "metadata": {},
   "outputs": [],
   "source": []
  },
  {
   "cell_type": "code",
   "execution_count": 1,
   "metadata": {
    "scrolled": true
   },
   "outputs": [
    {
     "name": "stdout",
     "output_type": "stream",
     "text": [
      "2\n",
      "1\n",
      "1\n",
      "0\n",
      "6\n"
     ]
    }
   ],
   "source": [
    "SevenSegment={0:6,1:2,2:5,3:5,4:4,5:5,6:6,7:3,8:7,9:6}\n",
    "\n",
    "def FSevenSegment(inp):\n",
    "    rval=0;rkey=0;ext=0\n",
    "    SevenSegment={0:6,1:2,2:5,3:5,4:4,5:5,6:6,7:3,8:7,9:6}\n",
    "\n",
    "    for keys,values in SevenSegment.items():\n",
    "        if inp==keys: \n",
    "            sticks=values #no of sticks\n",
    "            #print(keys)\n",
    "            break\n",
    "    for keys,values in SevenSegment.items():\n",
    "        if sticks%values==0:\n",
    "            y=keys\n",
    "            break\n",
    "    for x in range(0,len(str(sticks))):\n",
    "            #print(sticks,values)\n",
    "            sticks-=y\n",
    "            print(sticks)\n",
    "\n",
    "\n",
    "        \n",
    "        \n",
    "test=int(input())\n",
    "for x in range(0,test):\n",
    "    inp=int(input())\n",
    "    #print()\n",
    "    FSevenSegment(inp)\n",
    "    "
   ]
  },
  {
   "cell_type": "code",
   "execution_count": 19,
   "metadata": {},
   "outputs": [
    {
     "name": "stdout",
     "output_type": "stream",
     "text": [
      "5\n",
      "85 25 65 21 84\n",
      "55514\n",
      "NO\n"
     ]
    }
   ],
   "source": [
    "l=[]\n",
    "sum = \"\"\n",
    "N = int(input())\n",
    "data = [int(x) for x in input().split()]\n",
    "for i in data:\n",
    "    s = str(i%10)\n",
    "    sum = sum +s\n",
    "print(sum)\n",
    "if int(sum)%10 != 0 :\n",
    "    print(\"NO\")\n",
    "else:\n",
    "    print(\"Yes\")\n",
    "\n"
   ]
  },
  {
   "cell_type": "code",
   "execution_count": 76,
   "metadata": {
    "scrolled": true
   },
   "outputs": [
    {
     "name": "stdout",
     "output_type": "stream",
     "text": [
      "6\n",
      "15478 8452 8232 874 985 4512\n",
      "['15478', '8452', '8232']\n",
      "OUI\n"
     ]
    }
   ],
   "source": [
    "sum = \"\"\n",
    "f = []\n",
    "l = []\n",
    "N = int(input())\n",
    "data = [x for x in input().split()]\n",
    "for i in range(0, len(data)//2):\n",
    "    f.append(str(data[i]))\n",
    "print(f)\n",
    "for i in f:\n",
    "    sum = sum + i[0]\n",
    "for i in range(len(data)//2, len(data)):\n",
    "    l.append(str(data[i]))\n",
    "for i in l:\n",
    "    sum = sum + str(int(i)%10)\n",
    "if int(sum)%11 != 0 :\n",
    "    print(\"NON\")\n",
    "print(\"OUI\")\n",
    "        "
   ]
  },
  {
   "cell_type": "code",
   "execution_count": 16,
   "metadata": {},
   "outputs": [
    {
     "name": "stdout",
     "output_type": "stream",
     "text": [
      "2\n",
      "1\n",
      "1\n",
      "0\n",
      "111\n"
     ]
    }
   ],
   "source": [
    "matches=[6,2,5,5,4,5,6,3,7,6]\n",
    "d={'6':111,'2':1,'5':117,'4':11,'3':7,'7':117}\n",
    "\n",
    "for i in range(int(input())):\n",
    "    sticks=0\n",
    "    for j in input():\n",
    "        sticks+=matches[int(j)]\n",
    "        if sticks%2==0:\n",
    "            l=int(sticks/2)\n",
    "            print('1'*l)\n",
    "        else:\n",
    "            l=int((sticks-3)/2)\n",
    "            print('7'+'1'*l)"
   ]
  },
  {
   "cell_type": "code",
   "execution_count": 17,
   "metadata": {},
   "outputs": [
    {
     "name": "stdout",
     "output_type": "stream",
     "text": [
      "2\n",
      "1\n",
      "1\n",
      "0\n",
      "111\n"
     ]
    }
   ],
   "source": [
    "mapping = {'0': 6, '1': 2, '2': 5, '3': 5, '4': 4, '5': 5, '6': 6, '7': 3, '8': 7, '9': 6}\n",
    "\n",
    "t = int(input())\n",
    "\n",
    "for _ in range (t):\n",
    "    string = input()\n",
    "    sticks_count = sum(map(mapping.get, string))\n",
    "    quotient, remainder = divmod(sticks_count, 2)\n",
    "    print('7' * remainder + '1' * (quotient - remainder))"
   ]
  },
  {
   "cell_type": "code",
   "execution_count": 34,
   "metadata": {},
   "outputs": [
    {
     "name": "stdout",
     "output_type": "stream",
     "text": [
      "2\n",
      "18\n",
      "15 AS\n",
      "40\n",
      "37 WS\n"
     ]
    }
   ],
   "source": [
    "t = int(input())\n",
    "for i in range(t):\n",
    "    opp=int(input())\n",
    "    s=n%12 \n",
    "    if s==0:\n",
    "        opp-=11 \n",
    "    elif s<7:\n",
    "        opp+=(2*(6-s)+1)\n",
    "    else:\n",
    "        opp-=(2*(s-7)+1) \n",
    "        a=opp%6\n",
    "        if(a==1 or a==0):\n",
    "            print(opp,\"WS\")\n",
    "        elif(a==2 or a==5):\n",
    "            print(opp,\"MS\")\n",
    "        else:\n",
    "            print(opp,\"AS\")"
   ]
  },
  {
   "cell_type": "code",
   "execution_count": null,
   "metadata": {},
   "outputs": [],
   "source": []
  }
 ],
 "metadata": {
  "kernelspec": {
   "display_name": "Python 3",
   "language": "python",
   "name": "python3"
  },
  "language_info": {
   "codemirror_mode": {
    "name": "ipython",
    "version": 3
   },
   "file_extension": ".py",
   "mimetype": "text/x-python",
   "name": "python",
   "nbconvert_exporter": "python",
   "pygments_lexer": "ipython3",
   "version": "3.7.3"
  }
 },
 "nbformat": 4,
 "nbformat_minor": 2
}
