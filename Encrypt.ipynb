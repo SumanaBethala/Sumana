{
 "cells": [
  {
   "cell_type": "code",
   "execution_count": null,
   "metadata": {},
   "outputs": [],
   "source": [
    "import random\n",
    "marks = \"marks.txt\"\n",
    "with open(marks,\"w\") as f:\n",
    "    for i in range(100):\n",
    "        data = str(random.randint(1,25))\n",
    "        filedata = f.write(data)\n",
    "        f.write(\"\\n\")"
   ]
  },
  {
   "cell_type": "code",
   "execution_count": 18,
   "metadata": {},
   "outputs": [],
   "source": [
    "def generatekey(keypath):\n",
    "    with open(keypath,'w') as f:\n",
    "        for i in range(10):\n",
    "            if i<6:\n",
    "                f.write(str(i) + ' ' + str(i+4) + \"\\n\")\n",
    "            else:\n",
    "                f.write(str(i) + \" \" + str(i-6) + \"\\n\")\n",
    "    return\n",
    "\n",
    "keypath = \"keys.txt\"\n",
    "generatekey(keypath)"
   ]
  },
  {
   "cell_type": "code",
   "execution_count": 12,
   "metadata": {},
   "outputs": [
    {
     "data": {
      "text/plain": [
       "{'0': '4',\n",
       " '1': '5',\n",
       " '2': '6',\n",
       " '3': '7',\n",
       " '4': '8',\n",
       " '5': '9',\n",
       " '6': '0',\n",
       " '7': '1',\n",
       " '8': '2',\n",
       " '9': '3'}"
      ]
     },
     "execution_count": 12,
     "metadata": {},
     "output_type": "execute_result"
    }
   ],
   "source": [
    "def dictionarykeyfile(keypath):\n",
    "    key = {}\n",
    "    with open(keypath,\"r\") as f:\n",
    "        for line in f:\n",
    "            line = line.split()\n",
    "            key[line[0]] = line[1]\n",
    "    return key\n",
    "keypath = \"keys.txt\"\n",
    "dictionarykeyfile(keypath)"
   ]
  },
  {
   "cell_type": "code",
   "execution_count": 22,
   "metadata": {},
   "outputs": [],
   "source": [
    "def encrypteddata(datafile,keyfile):\n",
    "    key = dictionarykeyfile(keyfile)\n",
    "    with open(datafile, \"r\") as f:\n",
    "        filedata = f.read().split(\"\\n\")\n",
    "    with open(\"encryptmarks.txt\", \"w\") as f:\n",
    "        for mark in filedata:\n",
    "            line = \"\"\n",
    "            for i in mark:\n",
    "                line += key[i]\n",
    "            f.write(line + \"\\n\")\n",
    "    return\n",
    "datafile = \"marks.txt\"\n",
    "keyfile = \"keys.txt\"\n",
    "encrypteddata(datafile,keyfile)"
   ]
  },
  {
   "cell_type": "code",
   "execution_count": 25,
   "metadata": {},
   "outputs": [],
   "source": [
    "def decryptMarksData(encryptedfile, keyfile):\n",
    "    key = dictionaryKeyFile(keyfile)\n",
    "    newkey = {}\n",
    "    for key, value in key.items():\n",
    "        newkey[value] = key\n",
    "    with open(encryptedfile, 'r') as f:\n",
    "        encrypteddata = f.read().split('\\n')\n",
    "        with open('decryptedMarks.txt', 'w') as f:\n",
    "            for encryptedmark in encrypteddata:\n",
    "                line = ''\n",
    "                for n in encryptedmark:\n",
    "                    line += newkey[n]\n",
    "                f.write(line + '\\n')\n",
    "    return\n",
    "        \n",
    "encryptedfile = \"encryptmarks.txt\"\n",
    "keyfile = \"keys.txt\"\n",
    "decryptMarksData(encryptedfile, keyfile)"
   ]
  },
  {
   "cell_type": "code",
   "execution_count": null,
   "metadata": {},
   "outputs": [],
   "source": []
  }
 ],
 "metadata": {
  "kernelspec": {
   "display_name": "Python 3",
   "language": "python",
   "name": "python3"
  },
  "language_info": {
   "codemirror_mode": {
    "name": "ipython",
    "version": 3
   },
   "file_extension": ".py",
   "mimetype": "text/x-python",
   "name": "python",
   "nbconvert_exporter": "python",
   "pygments_lexer": "ipython3",
   "version": "3.7.3"
  }
 },
 "nbformat": 4,
 "nbformat_minor": 2
}
