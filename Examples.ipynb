{
 "cells": [
  {
   "cell_type": "code",
   "execution_count": 9,
   "metadata": {},
   "outputs": [
    {
     "name": "stdout",
     "output_type": "stream",
     "text": [
      "10\n"
     ]
    },
    {
     "data": {
      "text/plain": [
       "3628800"
      ]
     },
     "execution_count": 9,
     "metadata": {},
     "output_type": "execute_result"
    }
   ],
   "source": [
    "def fact_recurse(n):\n",
    "    if n == 1:\n",
    "        return 1\n",
    "    else:\n",
    "        return (n * fact_recurse(n-1))\n",
    "    \n",
    "fact_recurse(int(input()))\n",
    "        "
   ]
  },
  {
   "cell_type": "code",
   "execution_count": 18,
   "metadata": {},
   "outputs": [
    {
     "name": "stdout",
     "output_type": "stream",
     "text": [
      "2\n",
      "3\n",
      "5\n",
      "7\n",
      "11\n",
      "13\n",
      "17\n",
      "19\n",
      "23\n",
      "29\n",
      "31\n",
      "37\n",
      "41\n",
      "43\n",
      "47\n"
     ]
    }
   ],
   "source": [
    "def prime(n):\n",
    "    count = 0\n",
    "    for i in range(1,n+1):\n",
    "        if n%i == 0:\n",
    "            count +=1\n",
    "    if count == 2:\n",
    "        return True\n",
    "    return False\n",
    "\n",
    "def primerange(lb, ub):\n",
    "    for i in range(lb,ub+1):\n",
    "        if prime(i):\n",
    "             print(i)\n",
    "        \n",
    "primerange(1,50)"
   ]
  },
  {
   "cell_type": "code",
   "execution_count": 23,
   "metadata": {},
   "outputs": [
    {
     "name": "stdout",
     "output_type": "stream",
     "text": [
      "p 2\n",
      "y 1\n",
      "t 1\n",
      "h 1\n",
      "o 2\n",
      "n 2\n",
      "r 2\n",
      "g 2\n",
      "a 1\n",
      "m 2\n",
      "i 1\n"
     ]
    }
   ],
   "source": [
    "s = \"pythonprogramming\"\n",
    "for i in range(len(s)):\n",
    "    count = 0\n",
    "    for j in range(len(s)):\n",
    "        if s[i] == s[j]:\n",
    "            count+=1\n",
    "    match = False\n",
    "    k = i-1\n",
    "    while(k>=0):\n",
    "        if s[i]==s[k]:\n",
    "            match = True\n",
    "        k = k-1\n",
    "    if match == False:\n",
    "        print(s[i], count)"
   ]
  }
 ],
 "metadata": {
  "kernelspec": {
   "display_name": "Python 3",
   "language": "python",
   "name": "python3"
  },
  "language_info": {
   "codemirror_mode": {
    "name": "ipython",
    "version": 3
   },
   "file_extension": ".py",
   "mimetype": "text/x-python",
   "name": "python",
   "nbconvert_exporter": "python",
   "pygments_lexer": "ipython3",
   "version": "3.7.3"
  }
 },
 "nbformat": 4,
 "nbformat_minor": 2
}
